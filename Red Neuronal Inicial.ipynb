{
 "cells": [
  {
   "cell_type": "code",
   "execution_count": 1,
   "id": "4b8e0bee",
   "metadata": {},
   "outputs": [
    {
     "name": "stdout",
     "output_type": "stream",
     "text": [
      "Collecting package metadata (current_repodata.json): ...working... done\n",
      "Solving environment: ...working... done\n",
      "\n",
      "## Package Plan ##\n",
      "\n",
      "  environment location: C:\\Users\\rodrigl2\\Anaconda3\\envs\\tutorial\n",
      "\n",
      "  added / updated specs:\n",
      "    - matplotlib\n",
      "\n",
      "\n",
      "The following packages will be downloaded:\n",
      "\n",
      "    package                    |            build\n",
      "    ---------------------------|-----------------\n",
      "    cycler-0.10.0              |           py37_0          13 KB\n",
      "    freetype-2.10.4            |       hd328e21_0         466 KB\n",
      "    kiwisolver-1.3.1           |   py37hd77b12b_0          52 KB\n",
      "    libtiff-4.2.0              |       hd0e1b90_0         786 KB\n",
      "    lz4-c-1.9.3                |       h2bbff1b_0         131 KB\n",
      "    matplotlib-3.3.4           |   py37haa95532_0          27 KB\n",
      "    matplotlib-base-3.3.4      |   py37h49ac443_0         5.1 MB\n",
      "    olefile-0.46               |           py37_0          49 KB\n",
      "    pillow-8.2.0               |   py37h4fa10fc_0         665 KB\n",
      "    zstd-1.4.9                 |       h19a0ad4_0         478 KB\n",
      "    ------------------------------------------------------------\n",
      "                                           Total:         7.7 MB\n",
      "\n",
      "The following NEW packages will be INSTALLED:\n",
      "\n",
      "  cycler             pkgs/main/win-64::cycler-0.10.0-py37_0\n",
      "  freetype           pkgs/main/win-64::freetype-2.10.4-hd328e21_0\n",
      "  kiwisolver         pkgs/main/win-64::kiwisolver-1.3.1-py37hd77b12b_0\n",
      "  libtiff            pkgs/main/win-64::libtiff-4.2.0-hd0e1b90_0\n",
      "  lz4-c              pkgs/main/win-64::lz4-c-1.9.3-h2bbff1b_0\n",
      "  matplotlib         pkgs/main/win-64::matplotlib-3.3.4-py37haa95532_0\n",
      "  matplotlib-base    pkgs/main/win-64::matplotlib-base-3.3.4-py37h49ac443_0\n",
      "  olefile            pkgs/main/win-64::olefile-0.46-py37_0\n",
      "  pillow             pkgs/main/win-64::pillow-8.2.0-py37h4fa10fc_0\n",
      "  tk                 pkgs/main/win-64::tk-8.6.10-he774522_0\n",
      "  xz                 pkgs/main/win-64::xz-5.2.5-h62dcd97_0\n",
      "  zstd               pkgs/main/win-64::zstd-1.4.9-h19a0ad4_0\n",
      "\n",
      "\n",
      "\n",
      "Downloading and Extracting Packages\n",
      "\n",
      "matplotlib-base-3.3. | 5.1 MB    |            |   0% \n",
      "matplotlib-base-3.3. | 5.1 MB    |            |   0% \n",
      "matplotlib-base-3.3. | 5.1 MB    | #5         |  16% \n",
      "matplotlib-base-3.3. | 5.1 MB    | ###1       |  32% \n",
      "matplotlib-base-3.3. | 5.1 MB    | ####9      |  49% \n",
      "matplotlib-base-3.3. | 5.1 MB    | ######     |  60% \n",
      "matplotlib-base-3.3. | 5.1 MB    | #######7   |  78% \n",
      "matplotlib-base-3.3. | 5.1 MB    | #########4 |  95% \n",
      "matplotlib-base-3.3. | 5.1 MB    | ########## | 100% \n",
      "\n",
      "libtiff-4.2.0        | 786 KB    |            |   0% \n",
      "libtiff-4.2.0        | 786 KB    | ####6      |  47% \n",
      "libtiff-4.2.0        | 786 KB    | ########## | 100% \n",
      "libtiff-4.2.0        | 786 KB    | ########## | 100% \n",
      "\n",
      "olefile-0.46         | 49 KB     |            |   0% \n",
      "olefile-0.46         | 49 KB     | ########## | 100% \n",
      "olefile-0.46         | 49 KB     | ########## | 100% \n",
      "\n",
      "cycler-0.10.0        | 13 KB     |            |   0% \n",
      "cycler-0.10.0        | 13 KB     | ########## | 100% \n",
      "cycler-0.10.0        | 13 KB     | ########## | 100% \n",
      "\n",
      "lz4-c-1.9.3          | 131 KB    |            |   0% \n",
      "lz4-c-1.9.3          | 131 KB    | ########## | 100% \n",
      "lz4-c-1.9.3          | 131 KB    | ########## | 100% \n",
      "\n",
      "matplotlib-3.3.4     | 27 KB     |            |   0% \n",
      "matplotlib-3.3.4     | 27 KB     | ########## | 100% \n",
      "matplotlib-3.3.4     | 27 KB     | ########## | 100% \n",
      "\n",
      "zstd-1.4.9           | 478 KB    |            |   0% \n",
      "zstd-1.4.9           | 478 KB    | #######    |  70% \n",
      "zstd-1.4.9           | 478 KB    | ########## | 100% \n",
      "zstd-1.4.9           | 478 KB    | ########## | 100% \n",
      "\n",
      "pillow-8.2.0         | 665 KB    |            |   0% \n",
      "pillow-8.2.0         | 665 KB    | #####7     |  58% \n",
      "pillow-8.2.0         | 665 KB    | ########## | 100% \n",
      "pillow-8.2.0         | 665 KB    | ########## | 100% \n",
      "\n",
      "kiwisolver-1.3.1     | 52 KB     |            |   0% \n",
      "kiwisolver-1.3.1     | 52 KB     | ########## | 100% \n",
      "kiwisolver-1.3.1     | 52 KB     | ########## | 100% \n",
      "\n",
      "freetype-2.10.4      | 466 KB    |            |   0% \n",
      "freetype-2.10.4      | 466 KB    | #######8   |  79% \n",
      "freetype-2.10.4      | 466 KB    | ########## | 100% \n",
      "Preparing transaction: ...working... done\n",
      "Verifying transaction: ...working... done\n",
      "Executing transaction: ...working... done\n",
      "Collecting package metadata (current_repodata.json): ...working... done\n",
      "Solving environment: ...working... done\n",
      "\n",
      "# All requested packages already installed.\n",
      "\n"
     ]
    }
   ],
   "source": [
    "# Instalación de paquetes necesarios.\n",
    "\n",
    "import sys\n",
    "!conda install --yes --prefix {sys.prefix} matplotlib\n",
    "!conda install --yes --prefix {sys.prefix} numpy"
   ]
  },
  {
   "cell_type": "code",
   "execution_count": 2,
   "id": "349271c6",
   "metadata": {},
   "outputs": [],
   "source": [
    "# Carga de los paquetes necesarios.\n",
    "\n",
    "%matplotlib inline\n",
    "from matplotlib import pyplot as plt\n",
    "import numpy as np"
   ]
  },
  {
   "cell_type": "code",
   "execution_count": 3,
   "id": "a6dc502d",
   "metadata": {},
   "outputs": [],
   "source": [
    "# Definición del conjunto de datos.\n",
    "\n",
    "data = [[3,   1.5, 1],\n",
    "        [2,   1,   0],\n",
    "        [4,   1.5, 1],\n",
    "        [3,   1,   0],\n",
    "        [3.5, .5,  1],\n",
    "        [2,   .5,  0],\n",
    "        [5.5,  1,  1],\n",
    "        [1,    1,  0]]\n",
    "\n",
    "mystery_flower = [4.5, 1]"
   ]
  },
  {
   "cell_type": "code",
   "execution_count": 4,
   "id": "3edc892f",
   "metadata": {},
   "outputs": [
    {
     "data": {
      "text/plain": [
       "[[3, 1.5, 1],\n",
       " [2, 1, 0],\n",
       " [4, 1.5, 1],\n",
       " [3, 1, 0],\n",
       " [3.5, 0.5, 1],\n",
       " [2, 0.5, 0],\n",
       " [5.5, 1, 1],\n",
       " [1, 1, 0]]"
      ]
     },
     "execution_count": 4,
     "metadata": {},
     "output_type": "execute_result"
    }
   ],
   "source": [
    "data"
   ]
  },
  {
   "cell_type": "code",
   "execution_count": 5,
   "id": "de63ffe0",
   "metadata": {},
   "outputs": [
    {
     "data": {
      "image/png": "[encoded data removed]",
      "text/plain": [
       "<Figure size 432x288 with 1 Axes>"
      ]
     },
     "metadata": {
      "needs_background": "light"
     },
     "output_type": "display_data"
    }
   ],
   "source": [
    "# Visualización de los datos \n",
    "\n",
    "def vis_data():\n",
    "    plt.grid()\n",
    "\n",
    "    for i in range(len(data)):\n",
    "        c = 'r'\n",
    "        if data[i][2] == 0:\n",
    "            c = 'b'\n",
    "        plt.scatter([data[i][0]], [data[i][1]], c=c)\n",
    "\n",
    "    plt.scatter([mystery_flower[0]], [mystery_flower[1]], c='gray')\n",
    "\n",
    "vis_data()"
   ]
  },
  {
   "cell_type": "code",
   "execution_count": 6,
   "id": "8296d05b",
   "metadata": {},
   "outputs": [],
   "source": [
    "# Neural Network\n",
    "\n",
    "#       o  Tipo de flor\n",
    "#      / \\  w1, w2, b\n",
    "#     o   o  largo, ancho"
   ]
  },
  {
   "cell_type": "code",
   "execution_count": 7,
   "id": "072a46d3",
   "metadata": {},
   "outputs": [],
   "source": [
    "# Funciones de activación\n",
    "\n",
    "def sigmoid(x):\n",
    "    return 1/(1+np.exp(-x))\n",
    "\n",
    "def sigmoid_p(x):\n",
    "    return sigmoid(x) * (1-sigmoid(x))"
   ]
  },
  {
   "cell_type": "code",
   "execution_count": 8,
   "id": "32310d56",
   "metadata": {},
   "outputs": [
    {
     "data": {
      "image/png": "[encoded data removed]",
      "text/plain": [
       "<Figure size 432x288 with 1 Axes>"
      ]
     },
     "metadata": {
      "needs_background": "light"
     },
     "output_type": "display_data"
    }
   ],
   "source": [
    "# Grafica de las funciones de activación\n",
    "\n",
    "X = np.linspace(-5, 5, 100)\n",
    "\n",
    "plt.plot(X, sigmoid(X), c=\"b\") # Sigmoide en azul\n",
    "\n",
    "fig = plt.plot(X, sigmoid_p(X), c=\"r\") # sigmoid_p en rojo"
   ]
  },
  {
   "cell_type": "code",
   "execution_count": 9,
   "id": "46c786e1",
   "metadata": {},
   "outputs": [
    {
     "data": {
      "image/png": "[encoded data removed]",
      "text/plain": [
       "<Figure size 432x288 with 1 Axes>"
      ]
     },
     "metadata": {
      "needs_background": "light"
     },
     "output_type": "display_data"
    }
   ],
   "source": [
    "# Entrenamiento de la Red Neuronal\n",
    "\n",
    "def train():\n",
    "    \n",
    "    \n",
    "    # Inicialización aleatoria de los pesos de la red.\n",
    "    \n",
    "    w1 = np.random.randn()\n",
    "    w2 = np.random.randn()\n",
    "    b = np.random.randn()\n",
    "    \n",
    "    iterations = 10000\n",
    "    learning_rate = 0.1\n",
    "    costs = [] # Costos --->> Minimizar \n",
    "    \n",
    "    for i in range(iterations):\n",
    "        # Valor aleatorio inicial\n",
    "        ri = np.random.randint(len(data))\n",
    "        point = data[ri]\n",
    "        \n",
    "        z = point[0] * w1 + point[1] * w2 + b\n",
    "        pred = sigmoid(z) # Predicción de la función Sigmoide\n",
    "        \n",
    "        target = point[2]\n",
    "        \n",
    "        # Valor de la función de costo (error)\n",
    "        \n",
    "        cost = np.square(pred - target)\n",
    "        \n",
    "        # Imprimir los valores cada 1000 interaciones\n",
    "        \n",
    "        if i % 100 == 0:\n",
    "            c = 0\n",
    "            for j in range(len(data)):\n",
    "                p = data[j]\n",
    "                p_pred = sigmoid(w1 * p[0] + w2 * p[1] + b)\n",
    "                c += np.square(p_pred - p[2])\n",
    "            costs.append(c)\n",
    "            \n",
    "        dcost_dpred = 2 * (pred - target)\n",
    "        dpred_dz = sigmoid_p(z)\n",
    "        \n",
    "        dz_dw1 = point[0]\n",
    "        dz_dw2 = point[1]\n",
    "        dz_db = 1\n",
    "        \n",
    "        dcost_dz = dcost_dpred * dpred_dz\n",
    "        \n",
    "        dcost_dw1 = dcost_dz * dz_dw1\n",
    "        dcost_dw2 = dcost_dz * dz_dw2\n",
    "        dcost_db = dcost_dz * dz_db\n",
    "        \n",
    "        w1 = w1 - learning_rate * dcost_dw1\n",
    "        w2 = w2 - learning_rate * dcost_dw2\n",
    "        b = b - learning_rate * dcost_db\n",
    "        \n",
    "    return costs, w1, w2, b\n",
    "        \n",
    "costs, w1, w2, b = train()\n",
    "\n",
    "fig = plt.plot(costs)"
   ]
  },
  {
   "cell_type": "code",
   "execution_count": 10,
   "id": "630aaee1",
   "metadata": {},
   "outputs": [
    {
     "name": "stdout",
     "output_type": "stream",
     "text": [
      "0.6255750033848206\n",
      "Valor cercano a 0 -> Azul, Valor Cercano a 1 -> Rojo\n"
     ]
    }
   ],
   "source": [
    "# Prediccion del valor desconocido\n",
    "\n",
    "mystery_flower = [3, 1.5]\n",
    "\n",
    "z = w1 * mystery_flower[0] + w2 * mystery_flower[1] + b\n",
    "pred = sigmoid(z)\n",
    "\n",
    "print(pred)\n",
    "print(\"Valor cercano a 0 -> Azul, Valor Cercano a 1 -> Rojo\")\n"
   ]
  },
  {
   "cell_type": "code",
   "execution_count": 11,
   "id": "b33a1f15",
   "metadata": {},
   "outputs": [
    {
     "data": {
      "image/png": "[encoded data removed]",
      "text/plain": [
       "<Figure size 432x288 with 1 Axes>"
      ]
     },
     "metadata": {
      "needs_background": "light"
     },
     "output_type": "display_data"
    }
   ],
   "source": [
    "# Visualización completa del modelo creado por la Red Neuronal\n",
    "for x in np.linspace(0, 6, 20):\n",
    "    for y in np.linspace(0, 3, 20):\n",
    "        pred = sigmoid(w1 * x + w2 * y + b)\n",
    "        c = 'b'\n",
    "        if pred > .5:\n",
    "            c = 'r'\n",
    "        plt.scatter([x],[y],c=c, alpha=.2)\n",
    "        \n",
    "# plot points over network predictions\n",
    "# you should see a split, with half the predictions blue\n",
    "# and the other half red.. nicely predicting each data point!\n",
    "vis_data()"
   ]
  },
  {
   "cell_type": "code",
   "execution_count": null,
   "id": "0ef36240",
   "metadata": {},
   "outputs": [],
   "source": []
  }
 ],
 "metadata": {
  "kernelspec": {
   "display_name": "Python 3",
   "language": "python",
   "name": "python3"
  },
  "language_info": {
   "codemirror_mode": {
    "name": "ipython",
    "version": 3
   },
   "file_extension": ".py",
   "mimetype": "text/x-python",
   "name": "python",
   "nbconvert_exporter": "python",
   "pygments_lexer": "ipython3",
   "version": "3.7.10"
  }
 },
 "nbformat": 4,
 "nbformat_minor": 5
}
